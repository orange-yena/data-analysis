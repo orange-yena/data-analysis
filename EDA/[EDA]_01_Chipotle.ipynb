{
  "nbformat": 4,
  "nbformat_minor": 0,
  "metadata": {
    "colab": {
      "name": "[EDA] 01 Chipotle.ipynb",
      "provenance": []
    },
    "kernelspec": {
      "name": "python3",
      "display_name": "Python 3"
    }
  },
  "cells": [
    {
      "cell_type": "code",
      "metadata": {
        "colab": {
          "base_uri": "https://localhost:8080/"
        },
        "id": "qKJyiuWm0WCl",
        "outputId": "57c3bc5d-ecf5-4947-b5af-fe55afe4187d"
      },
      "source": [
        "cd /content/drive/MyDrive/DataAnalysis/DataAnalysis"
      ],
      "execution_count": 1,
      "outputs": [
        {
          "output_type": "stream",
          "text": [
            "/content/drive/MyDrive/DataAnalysis/DataAnalysis\n"
          ],
          "name": "stdout"
        }
      ]
    },
    {
      "cell_type": "markdown",
      "metadata": {
        "id": "Hh3YbJYD9kmq"
      },
      "source": [
        "#0. 라이브러리 가져오기"
      ]
    },
    {
      "cell_type": "code",
      "metadata": {
        "id": "1X8ec7Yi9m2y"
      },
      "source": [
        "import pandas as pd\r\n",
        "import numpy as np\r\n",
        "import matplotlib.pyplot as plt"
      ],
      "execution_count": 36,
      "outputs": []
    },
    {
      "cell_type": "markdown",
      "metadata": {
        "id": "ObiCgH1b9snr"
      },
      "source": [
        "#1. 데이터탐색"
      ]
    },
    {
      "cell_type": "markdown",
      "metadata": {
        "id": "jzZr4iS99fl_"
      },
      "source": [
        "## 데이터셋의 기본정보\r\n",
        "- order_id: 주문 아이디\r\n",
        "- quantity: 주문량\r\n",
        "- item_name: 아이템 이름\r\n",
        "- choice_description: 상세설명\r\n",
        "- item_price: 아이템 가격"
      ]
    },
    {
      "cell_type": "code",
      "metadata": {
        "id": "FNtJ-kiZ9Zfb"
      },
      "source": [
        "file_path = '/content/drive/MyDrive/DataAnalysis/DataAnalysis/data/chipotle.tsv'"
      ],
      "execution_count": 8,
      "outputs": []
    },
    {
      "cell_type": "code",
      "metadata": {
        "id": "tOLkUbjX97Ia"
      },
      "source": [
        "chipo = pd.read_csv(file_path, sep='\\t')"
      ],
      "execution_count": 9,
      "outputs": []
    },
    {
      "cell_type": "code",
      "metadata": {
        "colab": {
          "base_uri": "https://localhost:8080/",
          "height": 197
        },
        "id": "y2boENAf-Fl6",
        "outputId": "a0edd699-6713-46c9-afc5-3c980e0ff51b"
      },
      "source": [
        "chipo.head()"
      ],
      "execution_count": 11,
      "outputs": [
        {
          "output_type": "execute_result",
          "data": {
            "text/html": [
              "<div>\n",
              "<style scoped>\n",
              "    .dataframe tbody tr th:only-of-type {\n",
              "        vertical-align: middle;\n",
              "    }\n",
              "\n",
              "    .dataframe tbody tr th {\n",
              "        vertical-align: top;\n",
              "    }\n",
              "\n",
              "    .dataframe thead th {\n",
              "        text-align: right;\n",
              "    }\n",
              "</style>\n",
              "<table border=\"1\" class=\"dataframe\">\n",
              "  <thead>\n",
              "    <tr style=\"text-align: right;\">\n",
              "      <th></th>\n",
              "      <th>order_id</th>\n",
              "      <th>quantity</th>\n",
              "      <th>item_name</th>\n",
              "      <th>choice_description</th>\n",
              "      <th>item_price</th>\n",
              "    </tr>\n",
              "  </thead>\n",
              "  <tbody>\n",
              "    <tr>\n",
              "      <th>0</th>\n",
              "      <td>1</td>\n",
              "      <td>1</td>\n",
              "      <td>Chips and Fresh Tomato Salsa</td>\n",
              "      <td>NaN</td>\n",
              "      <td>$2.39</td>\n",
              "    </tr>\n",
              "    <tr>\n",
              "      <th>1</th>\n",
              "      <td>1</td>\n",
              "      <td>1</td>\n",
              "      <td>Izze</td>\n",
              "      <td>[Clementine]</td>\n",
              "      <td>$3.39</td>\n",
              "    </tr>\n",
              "    <tr>\n",
              "      <th>2</th>\n",
              "      <td>1</td>\n",
              "      <td>1</td>\n",
              "      <td>Nantucket Nectar</td>\n",
              "      <td>[Apple]</td>\n",
              "      <td>$3.39</td>\n",
              "    </tr>\n",
              "    <tr>\n",
              "      <th>3</th>\n",
              "      <td>1</td>\n",
              "      <td>1</td>\n",
              "      <td>Chips and Tomatillo-Green Chili Salsa</td>\n",
              "      <td>NaN</td>\n",
              "      <td>$2.39</td>\n",
              "    </tr>\n",
              "    <tr>\n",
              "      <th>4</th>\n",
              "      <td>2</td>\n",
              "      <td>2</td>\n",
              "      <td>Chicken Bowl</td>\n",
              "      <td>[Tomatillo-Red Chili Salsa (Hot), [Black Beans...</td>\n",
              "      <td>$16.98</td>\n",
              "    </tr>\n",
              "  </tbody>\n",
              "</table>\n",
              "</div>"
            ],
            "text/plain": [
              "   order_id  ...  item_price\n",
              "0         1  ...      $2.39 \n",
              "1         1  ...      $3.39 \n",
              "2         1  ...      $3.39 \n",
              "3         1  ...      $2.39 \n",
              "4         2  ...     $16.98 \n",
              "\n",
              "[5 rows x 5 columns]"
            ]
          },
          "metadata": {
            "tags": []
          },
          "execution_count": 11
        }
      ]
    },
    {
      "cell_type": "code",
      "metadata": {
        "colab": {
          "base_uri": "https://localhost:8080/"
        },
        "id": "7Yo8QFG89_Ki",
        "outputId": "82cb1441-d6ea-4e2a-e0b9-38b7dc18eb98"
      },
      "source": [
        "print(chipo.shape)"
      ],
      "execution_count": 16,
      "outputs": [
        {
          "output_type": "stream",
          "text": [
            "(4622, 5)\n"
          ],
          "name": "stdout"
        }
      ]
    },
    {
      "cell_type": "code",
      "metadata": {
        "colab": {
          "base_uri": "https://localhost:8080/"
        },
        "id": "Z3eVMNA6-m8w",
        "outputId": "af08df4a-0b76-44ef-84cb-db1681cf3c18"
      },
      "source": [
        "print(chipo.info())"
      ],
      "execution_count": 15,
      "outputs": [
        {
          "output_type": "stream",
          "text": [
            "<class 'pandas.core.frame.DataFrame'>\n",
            "RangeIndex: 4622 entries, 0 to 4621\n",
            "Data columns (total 5 columns):\n",
            " #   Column              Non-Null Count  Dtype \n",
            "---  ------              --------------  ----- \n",
            " 0   order_id            4622 non-null   int64 \n",
            " 1   quantity            4622 non-null   int64 \n",
            " 2   item_name           4622 non-null   object\n",
            " 3   choice_description  3376 non-null   object\n",
            " 4   item_price          4622 non-null   object\n",
            "dtypes: int64(2), object(3)\n",
            "memory usage: 180.7+ KB\n",
            "None\n"
          ],
          "name": "stdout"
        }
      ]
    },
    {
      "cell_type": "code",
      "metadata": {
        "colab": {
          "base_uri": "https://localhost:8080/"
        },
        "id": "k1YoUgrK-Iba",
        "outputId": "aafea36e-f524-4657-cd25-939219f77e6e"
      },
      "source": [
        "chipo.columns"
      ],
      "execution_count": 12,
      "outputs": [
        {
          "output_type": "execute_result",
          "data": {
            "text/plain": [
              "Index(['order_id', 'quantity', 'item_name', 'choice_description',\n",
              "       'item_price'],\n",
              "      dtype='object')"
            ]
          },
          "metadata": {
            "tags": []
          },
          "execution_count": 12
        }
      ]
    },
    {
      "cell_type": "code",
      "metadata": {
        "colab": {
          "base_uri": "https://localhost:8080/"
        },
        "id": "KF9eeTwA-KPM",
        "outputId": "f2a83d71-ac46-4077-a321-9671041eb62a"
      },
      "source": [
        "chipo.index"
      ],
      "execution_count": 13,
      "outputs": [
        {
          "output_type": "execute_result",
          "data": {
            "text/plain": [
              "RangeIndex(start=0, stop=4622, step=1)"
            ]
          },
          "metadata": {
            "tags": []
          },
          "execution_count": 13
        }
      ]
    },
    {
      "cell_type": "markdown",
      "metadata": {
        "id": "7rAjkS7v-QxK"
      },
      "source": [
        "## 데이터셋 수치적 특징 탐색\r\n",
        "- quantity와 item_price의 요약 통계\r\n",
        "\r\n",
        "- order_id와 item_name의 개수"
      ]
    },
    {
      "cell_type": "code",
      "metadata": {
        "id": "uJjn0Abd-cp_"
      },
      "source": [
        "chipo['order_id'] = chipo['order_id'].astype(str)"
      ],
      "execution_count": 17,
      "outputs": []
    },
    {
      "cell_type": "code",
      "metadata": {
        "colab": {
          "base_uri": "https://localhost:8080/"
        },
        "id": "uMqo8W8U_NKN",
        "outputId": "6d09a9cc-326a-4bce-851d-8fa2f1b9127f"
      },
      "source": [
        "print(chipo.describe())"
      ],
      "execution_count": 18,
      "outputs": [
        {
          "output_type": "stream",
          "text": [
            "          quantity\n",
            "count  4622.000000\n",
            "mean      1.075725\n",
            "std       0.410186\n",
            "min       1.000000\n",
            "25%       1.000000\n",
            "50%       1.000000\n",
            "75%       1.000000\n",
            "max      15.000000\n"
          ],
          "name": "stdout"
        }
      ]
    },
    {
      "cell_type": "code",
      "metadata": {
        "colab": {
          "base_uri": "https://localhost:8080/"
        },
        "id": "7yUyiI9g_RbB",
        "outputId": "f3a9ad93-f707-4108-d5a5-4eeb2e0c2192"
      },
      "source": [
        "print(len(chipo['order_id'].unique()))"
      ],
      "execution_count": 19,
      "outputs": [
        {
          "output_type": "stream",
          "text": [
            "1834\n"
          ],
          "name": "stdout"
        }
      ]
    },
    {
      "cell_type": "code",
      "metadata": {
        "colab": {
          "base_uri": "https://localhost:8080/"
        },
        "id": "BTZ3aWIy_cwI",
        "outputId": "4e13f43f-f88f-4363-d71a-27b3e2e995b4"
      },
      "source": [
        "print(len(chipo['item_name'].unique()))"
      ],
      "execution_count": 21,
      "outputs": [
        {
          "output_type": "stream",
          "text": [
            "50\n"
          ],
          "name": "stdout"
        }
      ]
    },
    {
      "cell_type": "markdown",
      "metadata": {
        "id": "fE2VX18tAkkE"
      },
      "source": [
        "#2. 탐색과 시각화"
      ]
    },
    {
      "cell_type": "markdown",
      "metadata": {
        "id": "eu46lGiNAn9q"
      },
      "source": [
        "### **[가장 많이 주문한 item]** - value_counts"
      ]
    },
    {
      "cell_type": "code",
      "metadata": {
        "colab": {
          "base_uri": "https://localhost:8080/"
        },
        "id": "PjlMQzFRAdHD",
        "outputId": "c474a807-7d9c-491e-df16-b74594b5e6f4"
      },
      "source": [
        "item_count = chipo['item_name'].value_counts()[:10]\r\n",
        "for idx, (val,cnt) in enumerate(item_count.iteritems(), 1):\r\n",
        "  print('Top', idx, ':', val, cnt)"
      ],
      "execution_count": 28,
      "outputs": [
        {
          "output_type": "stream",
          "text": [
            "Top 1 : Chicken Bowl 726\n",
            "Top 2 : Chicken Burrito 553\n",
            "Top 3 : Chips and Guacamole 479\n",
            "Top 4 : Steak Burrito 368\n",
            "Top 5 : Canned Soft Drink 301\n",
            "Top 6 : Chips 211\n",
            "Top 7 : Steak Bowl 211\n",
            "Top 8 : Bottled Water 162\n",
            "Top 9 : Chicken Soft Tacos 115\n",
            "Top 10 : Chips and Fresh Tomato Salsa 110\n"
          ],
          "name": "stdout"
        }
      ]
    },
    {
      "cell_type": "code",
      "metadata": {
        "colab": {
          "base_uri": "https://localhost:8080/",
          "height": 34
        },
        "id": "xNkqlHvmAzX3",
        "outputId": "6c059292-8908-4397-be48-5c9227508413"
      },
      "source": [
        "#가장 많이 주문한 item\r\n",
        "chipo['item_name'].value_counts().index.tolist()[0]"
      ],
      "execution_count": 34,
      "outputs": [
        {
          "output_type": "execute_result",
          "data": {
            "application/vnd.google.colaboratory.intrinsic+json": {
              "type": "string"
            },
            "text/plain": [
              "'Chicken Bowl'"
            ]
          },
          "metadata": {
            "tags": []
          },
          "execution_count": 34
        }
      ]
    },
    {
      "cell_type": "markdown",
      "metadata": {
        "id": "o7NZQXaACnAO"
      },
      "source": [
        "### **[item당 주문 개수와 총량 구하기]** - group by"
      ]
    },
    {
      "cell_type": "code",
      "metadata": {
        "colab": {
          "base_uri": "https://localhost:8080/"
        },
        "id": "zcwyHXShCmL8",
        "outputId": "d2cdc68e-8e19-418e-d89c-66fe0e0faffa"
      },
      "source": [
        "#order_count: item당 주문 개수\r\n",
        "order_count = chipo.groupby('item_name')['order_id'].count()\r\n",
        "order_count[:10]"
      ],
      "execution_count": 31,
      "outputs": [
        {
          "output_type": "execute_result",
          "data": {
            "text/plain": [
              "item_name\n",
              "6 Pack Soft Drink         54\n",
              "Barbacoa Bowl             66\n",
              "Barbacoa Burrito          91\n",
              "Barbacoa Crispy Tacos     11\n",
              "Barbacoa Salad Bowl       10\n",
              "Barbacoa Soft Tacos       25\n",
              "Bottled Water            162\n",
              "Bowl                       2\n",
              "Burrito                    6\n",
              "Canned Soda              104\n",
              "Name: order_id, dtype: int64"
            ]
          },
          "metadata": {
            "tags": []
          },
          "execution_count": 31
        }
      ]
    },
    {
      "cell_type": "code",
      "metadata": {
        "colab": {
          "base_uri": "https://localhost:8080/"
        },
        "id": "VdZDHepwDTFl",
        "outputId": "a65c1756-e848-446b-b1dc-aff22866b498"
      },
      "source": [
        "#item_quantity: item당 주문 총량\r\n",
        "item_quantity = chipo.groupby('item_name')['quantity'].sum()\r\n",
        "item_quantity[:10]"
      ],
      "execution_count": 35,
      "outputs": [
        {
          "output_type": "execute_result",
          "data": {
            "text/plain": [
              "item_name\n",
              "6 Pack Soft Drink         55\n",
              "Barbacoa Bowl             66\n",
              "Barbacoa Burrito          91\n",
              "Barbacoa Crispy Tacos     12\n",
              "Barbacoa Salad Bowl       10\n",
              "Barbacoa Soft Tacos       25\n",
              "Bottled Water            211\n",
              "Bowl                       4\n",
              "Burrito                    6\n",
              "Canned Soda              126\n",
              "Name: quantity, dtype: int64"
            ]
          },
          "metadata": {
            "tags": []
          },
          "execution_count": 35
        }
      ]
    },
    {
      "cell_type": "markdown",
      "metadata": {
        "id": "kFidJDfpDivU"
      },
      "source": [
        "### **[시각화]**"
      ]
    },
    {
      "cell_type": "code",
      "metadata": {
        "id": "FSjBeboLDtvK"
      },
      "source": [
        "item_name_list = item_quantity.index.tolist()\r\n",
        "x_pos = np.arange(len(item_name_list))\r\n",
        "order_cnt = item_quantity.values.tolist()"
      ],
      "execution_count": 40,
      "outputs": []
    },
    {
      "cell_type": "code",
      "metadata": {
        "colab": {
          "base_uri": "https://localhost:8080/",
          "height": 281
        },
        "id": "_S3g3d2BEA1D",
        "outputId": "fca175fe-a344-41cc-b011-a8e1a889ee13"
      },
      "source": [
        "plt.bar(x_pos, order_cnt, align='center')\r\n",
        "plt.ylabel('ordered_item_count')\r\n",
        "plt.title('Distribution of all ordered item')\r\n",
        "\r\n",
        "plt.show()"
      ],
      "execution_count": 43,
      "outputs": [
        {
          "output_type": "display_data",
          "data": {
            "image/png": "[encoded data removed]",
            "text/plain": [
              "<Figure size 432x288 with 1 Axes>"
            ]
          },
          "metadata": {
            "tags": [],
            "needs_background": "light"
          }
        }
      ]
    },
    {
      "cell_type": "markdown",
      "metadata": {
        "id": "VFXc0-yYIg1t"
      },
      "source": [
        "#3. 데이터 전처리"
      ]
    },
    {
      "cell_type": "code",
      "metadata": {
        "colab": {
          "base_uri": "https://localhost:8080/"
        },
        "id": "iOwJ453yD40W",
        "outputId": "800fc06a-3aab-4f3f-b223-0bee4e241145"
      },
      "source": [
        "chipo.info()"
      ],
      "execution_count": 44,
      "outputs": [
        {
          "output_type": "stream",
          "text": [
            "<class 'pandas.core.frame.DataFrame'>\n",
            "RangeIndex: 4622 entries, 0 to 4621\n",
            "Data columns (total 5 columns):\n",
            " #   Column              Non-Null Count  Dtype \n",
            "---  ------              --------------  ----- \n",
            " 0   order_id            4622 non-null   object\n",
            " 1   quantity            4622 non-null   int64 \n",
            " 2   item_name           4622 non-null   object\n",
            " 3   choice_description  3376 non-null   object\n",
            " 4   item_price          4622 non-null   object\n",
            "dtypes: int64(1), object(4)\n",
            "memory usage: 180.7+ KB\n"
          ],
          "name": "stdout"
        }
      ]
    },
    {
      "cell_type": "code",
      "metadata": {
        "colab": {
          "base_uri": "https://localhost:8080/"
        },
        "id": "SjiAgYqEIla-",
        "outputId": "2e0c723b-2efe-49c0-ab41-254a630e72ba"
      },
      "source": [
        "chipo['item_price'].head()"
      ],
      "execution_count": 45,
      "outputs": [
        {
          "output_type": "execute_result",
          "data": {
            "text/plain": [
              "0     $2.39 \n",
              "1     $3.39 \n",
              "2     $3.39 \n",
              "3     $2.39 \n",
              "4    $16.98 \n",
              "Name: item_price, dtype: object"
            ]
          },
          "metadata": {
            "tags": []
          },
          "execution_count": 45
        }
      ]
    },
    {
      "cell_type": "code",
      "metadata": {
        "colab": {
          "base_uri": "https://localhost:8080/",
          "height": 287
        },
        "id": "QPILz6tdJdIl",
        "outputId": "30783adc-010b-4341-aebc-e251c0c51c0d"
      },
      "source": [
        "chipo['item_price'] = chipo['item_price'].apply(lambda x: float(x[1:]))\r\n",
        "chipo.describe()"
      ],
      "execution_count": 46,
      "outputs": [
        {
          "output_type": "execute_result",
          "data": {
            "text/html": [
              "<div>\n",
              "<style scoped>\n",
              "    .dataframe tbody tr th:only-of-type {\n",
              "        vertical-align: middle;\n",
              "    }\n",
              "\n",
              "    .dataframe tbody tr th {\n",
              "        vertical-align: top;\n",
              "    }\n",
              "\n",
              "    .dataframe thead th {\n",
              "        text-align: right;\n",
              "    }\n",
              "</style>\n",
              "<table border=\"1\" class=\"dataframe\">\n",
              "  <thead>\n",
              "    <tr style=\"text-align: right;\">\n",
              "      <th></th>\n",
              "      <th>quantity</th>\n",
              "      <th>item_price</th>\n",
              "    </tr>\n",
              "  </thead>\n",
              "  <tbody>\n",
              "    <tr>\n",
              "      <th>count</th>\n",
              "      <td>4622.000000</td>\n",
              "      <td>4622.000000</td>\n",
              "    </tr>\n",
              "    <tr>\n",
              "      <th>mean</th>\n",
              "      <td>1.075725</td>\n",
              "      <td>7.464336</td>\n",
              "    </tr>\n",
              "    <tr>\n",
              "      <th>std</th>\n",
              "      <td>0.410186</td>\n",
              "      <td>4.245557</td>\n",
              "    </tr>\n",
              "    <tr>\n",
              "      <th>min</th>\n",
              "      <td>1.000000</td>\n",
              "      <td>1.090000</td>\n",
              "    </tr>\n",
              "    <tr>\n",
              "      <th>25%</th>\n",
              "      <td>1.000000</td>\n",
              "      <td>3.390000</td>\n",
              "    </tr>\n",
              "    <tr>\n",
              "      <th>50%</th>\n",
              "      <td>1.000000</td>\n",
              "      <td>8.750000</td>\n",
              "    </tr>\n",
              "    <tr>\n",
              "      <th>75%</th>\n",
              "      <td>1.000000</td>\n",
              "      <td>9.250000</td>\n",
              "    </tr>\n",
              "    <tr>\n",
              "      <th>max</th>\n",
              "      <td>15.000000</td>\n",
              "      <td>44.250000</td>\n",
              "    </tr>\n",
              "  </tbody>\n",
              "</table>\n",
              "</div>"
            ],
            "text/plain": [
              "          quantity   item_price\n",
              "count  4622.000000  4622.000000\n",
              "mean      1.075725     7.464336\n",
              "std       0.410186     4.245557\n",
              "min       1.000000     1.090000\n",
              "25%       1.000000     3.390000\n",
              "50%       1.000000     8.750000\n",
              "75%       1.000000     9.250000\n",
              "max      15.000000    44.250000"
            ]
          },
          "metadata": {
            "tags": []
          },
          "execution_count": 46
        }
      ]
    },
    {
      "cell_type": "code",
      "metadata": {
        "colab": {
          "base_uri": "https://localhost:8080/"
        },
        "id": "Sg89GOMNJmd5",
        "outputId": "3b63aa34-6b2a-44f3-8e55-628fe003999d"
      },
      "source": [
        "chipo['item_price'].head()"
      ],
      "execution_count": 47,
      "outputs": [
        {
          "output_type": "execute_result",
          "data": {
            "text/plain": [
              "0     2.39\n",
              "1     3.39\n",
              "2     3.39\n",
              "3     2.39\n",
              "4    16.98\n",
              "Name: item_price, dtype: float64"
            ]
          },
          "metadata": {
            "tags": []
          },
          "execution_count": 47
        }
      ]
    },
    {
      "cell_type": "markdown",
      "metadata": {
        "id": "PYXhnGUvJqra"
      },
      "source": [
        "#4. 탐색적 데이터 분석\r\n",
        "- 주문당 평균 계산 금액\r\n",
        "- 한 주문에 10달러 이상 사용한 주문 id들 출력\r\n",
        "- 각 아이템의 가격구하기\r\n",
        "- 가장 비싼 주문에서 item 이 몇 개 팔렸는지 구하기\r\n",
        "- Veggie Salad Bowl이 몇 번 주문되었는지 구하기\r\n",
        "- Chicken Bowl 을 2개 이상 주문한 주문 횟수 구하기"
      ]
    },
    {
      "cell_type": "markdown",
      "metadata": {
        "id": "lbaXVI28Pcmq"
      },
      "source": [
        "주문당 평균 계산 금액"
      ]
    },
    {
      "cell_type": "code",
      "metadata": {
        "colab": {
          "base_uri": "https://localhost:8080/"
        },
        "id": "xNvW2rcvKA4f",
        "outputId": "c39ecc9d-d1aa-4f28-ef61-7dc951185824"
      },
      "source": [
        "chipo.groupby('order_id')['item_price'].sum().mean()"
      ],
      "execution_count": 49,
      "outputs": [
        {
          "output_type": "execute_result",
          "data": {
            "text/plain": [
              "18.811428571428717"
            ]
          },
          "metadata": {
            "tags": []
          },
          "execution_count": 49
        }
      ]
    },
    {
      "cell_type": "code",
      "metadata": {
        "colab": {
          "base_uri": "https://localhost:8080/"
        },
        "id": "1bTljrv_KEu-",
        "outputId": "94cffd8f-2a87-46a9-9679-56e81e526518"
      },
      "source": [
        "chipo.groupby('order_id')['item_price'].sum().describe()[:10]"
      ],
      "execution_count": 50,
      "outputs": [
        {
          "output_type": "execute_result",
          "data": {
            "text/plain": [
              "count    1834.000000\n",
              "mean       18.811429\n",
              "std        11.652512\n",
              "min        10.080000\n",
              "25%        12.572500\n",
              "50%        16.200000\n",
              "75%        21.960000\n",
              "max       205.250000\n",
              "Name: item_price, dtype: float64"
            ]
          },
          "metadata": {
            "tags": []
          },
          "execution_count": 50
        }
      ]
    },
    {
      "cell_type": "markdown",
      "metadata": {
        "id": "40UihB-xPezD"
      },
      "source": [
        "한 주문에 10달러 이상 사용한 주문 id들 출력"
      ]
    },
    {
      "cell_type": "code",
      "metadata": {
        "colab": {
          "base_uri": "https://localhost:8080/"
        },
        "id": "0uEf1xyoQkxf",
        "outputId": "16b851b9-5c17-472e-c0aa-4008cba76b78"
      },
      "source": [
        "chipo_orderid_group = chipo.groupby('order_id').sum()\r\n",
        "results = chipo_orderid_group[chipo_orderid_group.item_price >= 10]\r\n",
        "\r\n",
        "print(results[:10])\r\n",
        "print(results.index.values)"
      ],
      "execution_count": 51,
      "outputs": [
        {
          "output_type": "stream",
          "text": [
            "          quantity  item_price\n",
            "order_id                      \n",
            "1                4       11.56\n",
            "10               2       13.20\n",
            "100              2       10.08\n",
            "1000             2       20.50\n",
            "1001             2       10.08\n",
            "1002             2       10.68\n",
            "1003             2       13.00\n",
            "1004             2       21.96\n",
            "1005             3       12.15\n",
            "1006             8       71.40\n",
            "['1' '10' '100' ... '997' '998' '999']\n"
          ],
          "name": "stdout"
        }
      ]
    },
    {
      "cell_type": "markdown",
      "metadata": {
        "id": "my--ZCO1PidB"
      },
      "source": [
        "각 아이템의 가격구하기"
      ]
    },
    {
      "cell_type": "code",
      "metadata": {
        "colab": {
          "base_uri": "https://localhost:8080/",
          "height": 377
        },
        "id": "NautTmZsQxoW",
        "outputId": "585c3410-623e-4082-b89f-811e209dbb81"
      },
      "source": [
        "chipo_one_item = chipo[chipo.quantity == 1]\r\n",
        "price_per_item = chipo_one_item.groupby('item_name').min()\r\n",
        "price_per_item.sort_values(by = \"item_price\", ascending = False)[:10]"
      ],
      "execution_count": 52,
      "outputs": [
        {
          "output_type": "execute_result",
          "data": {
            "text/html": [
              "<div>\n",
              "<style scoped>\n",
              "    .dataframe tbody tr th:only-of-type {\n",
              "        vertical-align: middle;\n",
              "    }\n",
              "\n",
              "    .dataframe tbody tr th {\n",
              "        vertical-align: top;\n",
              "    }\n",
              "\n",
              "    .dataframe thead th {\n",
              "        text-align: right;\n",
              "    }\n",
              "</style>\n",
              "<table border=\"1\" class=\"dataframe\">\n",
              "  <thead>\n",
              "    <tr style=\"text-align: right;\">\n",
              "      <th></th>\n",
              "      <th>order_id</th>\n",
              "      <th>quantity</th>\n",
              "      <th>choice_description</th>\n",
              "      <th>item_price</th>\n",
              "    </tr>\n",
              "    <tr>\n",
              "      <th>item_name</th>\n",
              "      <th></th>\n",
              "      <th></th>\n",
              "      <th></th>\n",
              "      <th></th>\n",
              "    </tr>\n",
              "  </thead>\n",
              "  <tbody>\n",
              "    <tr>\n",
              "      <th>Steak Salad Bowl</th>\n",
              "      <td>1032</td>\n",
              "      <td>1</td>\n",
              "      <td>[Fresh Tomato Salsa, Lettuce]</td>\n",
              "      <td>9.39</td>\n",
              "    </tr>\n",
              "    <tr>\n",
              "      <th>Barbacoa Salad Bowl</th>\n",
              "      <td>1283</td>\n",
              "      <td>1</td>\n",
              "      <td>[Fresh Tomato Salsa, Guacamole]</td>\n",
              "      <td>9.39</td>\n",
              "    </tr>\n",
              "    <tr>\n",
              "      <th>Carnitas Salad Bowl</th>\n",
              "      <td>1035</td>\n",
              "      <td>1</td>\n",
              "      <td>[Fresh Tomato Salsa, [Rice, Black Beans, Chees...</td>\n",
              "      <td>9.39</td>\n",
              "    </tr>\n",
              "    <tr>\n",
              "      <th>Carnitas Soft Tacos</th>\n",
              "      <td>1011</td>\n",
              "      <td>1</td>\n",
              "      <td>[Fresh Tomato Salsa (Mild), [Black Beans, Rice...</td>\n",
              "      <td>8.99</td>\n",
              "    </tr>\n",
              "    <tr>\n",
              "      <th>Carnitas Crispy Tacos</th>\n",
              "      <td>1774</td>\n",
              "      <td>1</td>\n",
              "      <td>[Fresh Tomato Salsa, [Fajita Vegetables, Rice,...</td>\n",
              "      <td>8.99</td>\n",
              "    </tr>\n",
              "    <tr>\n",
              "      <th>Steak Soft Tacos</th>\n",
              "      <td>1054</td>\n",
              "      <td>1</td>\n",
              "      <td>[Fresh Tomato Salsa (Mild), [Cheese, Sour Cream]]</td>\n",
              "      <td>8.99</td>\n",
              "    </tr>\n",
              "    <tr>\n",
              "      <th>Carnitas Salad</th>\n",
              "      <td>1500</td>\n",
              "      <td>1</td>\n",
              "      <td>[[Fresh Tomato Salsa (Mild), Roasted Chili Cor...</td>\n",
              "      <td>8.99</td>\n",
              "    </tr>\n",
              "    <tr>\n",
              "      <th>Carnitas Bowl</th>\n",
              "      <td>1007</td>\n",
              "      <td>1</td>\n",
              "      <td>[Fresh Tomato (Mild), [Guacamole, Lettuce, Ric...</td>\n",
              "      <td>8.99</td>\n",
              "    </tr>\n",
              "    <tr>\n",
              "      <th>Barbacoa Soft Tacos</th>\n",
              "      <td>1103</td>\n",
              "      <td>1</td>\n",
              "      <td>[Fresh Tomato Salsa, [Black Beans, Cheese, Let...</td>\n",
              "      <td>8.99</td>\n",
              "    </tr>\n",
              "    <tr>\n",
              "      <th>Barbacoa Crispy Tacos</th>\n",
              "      <td>110</td>\n",
              "      <td>1</td>\n",
              "      <td>[Fresh Tomato Salsa, Guacamole]</td>\n",
              "      <td>8.99</td>\n",
              "    </tr>\n",
              "  </tbody>\n",
              "</table>\n",
              "</div>"
            ],
            "text/plain": [
              "                      order_id  ...  item_price\n",
              "item_name                       ...            \n",
              "Steak Salad Bowl          1032  ...        9.39\n",
              "Barbacoa Salad Bowl       1283  ...        9.39\n",
              "Carnitas Salad Bowl       1035  ...        9.39\n",
              "Carnitas Soft Tacos       1011  ...        8.99\n",
              "Carnitas Crispy Tacos     1774  ...        8.99\n",
              "Steak Soft Tacos          1054  ...        8.99\n",
              "Carnitas Salad            1500  ...        8.99\n",
              "Carnitas Bowl             1007  ...        8.99\n",
              "Barbacoa Soft Tacos       1103  ...        8.99\n",
              "Barbacoa Crispy Tacos      110  ...        8.99\n",
              "\n",
              "[10 rows x 4 columns]"
            ]
          },
          "metadata": {
            "tags": []
          },
          "execution_count": 52
        }
      ]
    },
    {
      "cell_type": "code",
      "metadata": {
        "colab": {
          "base_uri": "https://localhost:8080/",
          "height": 281
        },
        "id": "cZ1RR2kUQzix",
        "outputId": "14f02a8e-9b34-4da7-848d-3b7e7aeb51a7"
      },
      "source": [
        "item_name_list = price_per_item.index.tolist()\r\n",
        "x_pos = np.arange(len(item_name_list))\r\n",
        "item_price = price_per_item['item_price'].tolist()\r\n",
        " \r\n",
        "plt.bar(x_pos, item_price, align='center')\r\n",
        "plt.ylabel('item price($)')\r\n",
        "plt.title('Distribution of item price')\r\n",
        " \r\n",
        "plt.show()"
      ],
      "execution_count": 53,
      "outputs": [
        {
          "output_type": "display_data",
          "data": {
            "image/png": "[encoded data removed]",
            "text/plain": [
              "<Figure size 432x288 with 1 Axes>"
            ]
          },
          "metadata": {
            "tags": [],
            "needs_background": "light"
          }
        }
      ]
    },
    {
      "cell_type": "code",
      "metadata": {
        "colab": {
          "base_uri": "https://localhost:8080/",
          "height": 281
        },
        "id": "4OQJ1nX8Q17Z",
        "outputId": "cbf2d04a-b6dc-45e3-bcff-250a7ac3f26a"
      },
      "source": [
        "plt.hist(item_price)\r\n",
        "plt.ylabel('counts')\r\n",
        "plt.title('Histogram of item price')\r\n",
        "\r\n",
        "plt.show()"
      ],
      "execution_count": 54,
      "outputs": [
        {
          "output_type": "display_data",
          "data": {
            "image/png": "[encoded data removed]",
            "text/plain": [
              "<Figure size 432x288 with 1 Axes>"
            ]
          },
          "metadata": {
            "tags": [],
            "needs_background": "light"
          }
        }
      ]
    },
    {
      "cell_type": "markdown",
      "metadata": {
        "id": "SBWcFTw2Pj1D"
      },
      "source": [
        "가장 비싼 주문에서 item 이 몇 개 팔렸는지 구하기"
      ]
    },
    {
      "cell_type": "code",
      "metadata": {
        "colab": {
          "base_uri": "https://localhost:8080/",
          "height": 227
        },
        "id": "gt4gaNayQ3JB",
        "outputId": "73bf4257-d36e-4cb1-c2ae-ca12e527c27b"
      },
      "source": [
        "chipo.groupby('order_id').sum().sort_values(by='item_price', ascending=False)[:5]"
      ],
      "execution_count": 55,
      "outputs": [
        {
          "output_type": "execute_result",
          "data": {
            "text/html": [
              "<div>\n",
              "<style scoped>\n",
              "    .dataframe tbody tr th:only-of-type {\n",
              "        vertical-align: middle;\n",
              "    }\n",
              "\n",
              "    .dataframe tbody tr th {\n",
              "        vertical-align: top;\n",
              "    }\n",
              "\n",
              "    .dataframe thead th {\n",
              "        text-align: right;\n",
              "    }\n",
              "</style>\n",
              "<table border=\"1\" class=\"dataframe\">\n",
              "  <thead>\n",
              "    <tr style=\"text-align: right;\">\n",
              "      <th></th>\n",
              "      <th>quantity</th>\n",
              "      <th>item_price</th>\n",
              "    </tr>\n",
              "    <tr>\n",
              "      <th>order_id</th>\n",
              "      <th></th>\n",
              "      <th></th>\n",
              "    </tr>\n",
              "  </thead>\n",
              "  <tbody>\n",
              "    <tr>\n",
              "      <th>926</th>\n",
              "      <td>23</td>\n",
              "      <td>205.25</td>\n",
              "    </tr>\n",
              "    <tr>\n",
              "      <th>1443</th>\n",
              "      <td>35</td>\n",
              "      <td>160.74</td>\n",
              "    </tr>\n",
              "    <tr>\n",
              "      <th>1483</th>\n",
              "      <td>14</td>\n",
              "      <td>139.00</td>\n",
              "    </tr>\n",
              "    <tr>\n",
              "      <th>691</th>\n",
              "      <td>11</td>\n",
              "      <td>118.25</td>\n",
              "    </tr>\n",
              "    <tr>\n",
              "      <th>1786</th>\n",
              "      <td>20</td>\n",
              "      <td>114.30</td>\n",
              "    </tr>\n",
              "  </tbody>\n",
              "</table>\n",
              "</div>"
            ],
            "text/plain": [
              "          quantity  item_price\n",
              "order_id                      \n",
              "926             23      205.25\n",
              "1443            35      160.74\n",
              "1483            14      139.00\n",
              "691             11      118.25\n",
              "1786            20      114.30"
            ]
          },
          "metadata": {
            "tags": []
          },
          "execution_count": 55
        }
      ]
    },
    {
      "cell_type": "markdown",
      "metadata": {
        "id": "GzQeYEOaPk9B"
      },
      "source": [
        "Veggie Salad Bowl이 몇 번 주문되었는지 구하기"
      ]
    },
    {
      "cell_type": "code",
      "metadata": {
        "colab": {
          "base_uri": "https://localhost:8080/",
          "height": 215
        },
        "id": "7fL3JvkaQ587",
        "outputId": "23f74f07-45cb-4295-c24c-2aa75fd29f9c"
      },
      "source": [
        "chipo_salad = chipo[chipo['item_name'] == \"Veggie Salad Bowl\"]\r\n",
        "chipo_salad = chipo_salad.drop_duplicates(['item_name', 'order_id'])\r\n",
        "\r\n",
        "print(len(chipo_salad))\r\n",
        "chipo_salad.head(5)"
      ],
      "execution_count": 56,
      "outputs": [
        {
          "output_type": "stream",
          "text": [
            "18\n"
          ],
          "name": "stdout"
        },
        {
          "output_type": "execute_result",
          "data": {
            "text/html": [
              "<div>\n",
              "<style scoped>\n",
              "    .dataframe tbody tr th:only-of-type {\n",
              "        vertical-align: middle;\n",
              "    }\n",
              "\n",
              "    .dataframe tbody tr th {\n",
              "        vertical-align: top;\n",
              "    }\n",
              "\n",
              "    .dataframe thead th {\n",
              "        text-align: right;\n",
              "    }\n",
              "</style>\n",
              "<table border=\"1\" class=\"dataframe\">\n",
              "  <thead>\n",
              "    <tr style=\"text-align: right;\">\n",
              "      <th></th>\n",
              "      <th>order_id</th>\n",
              "      <th>quantity</th>\n",
              "      <th>item_name</th>\n",
              "      <th>choice_description</th>\n",
              "      <th>item_price</th>\n",
              "    </tr>\n",
              "  </thead>\n",
              "  <tbody>\n",
              "    <tr>\n",
              "      <th>186</th>\n",
              "      <td>83</td>\n",
              "      <td>1</td>\n",
              "      <td>Veggie Salad Bowl</td>\n",
              "      <td>[Fresh Tomato Salsa, [Fajita Vegetables, Rice,...</td>\n",
              "      <td>11.25</td>\n",
              "    </tr>\n",
              "    <tr>\n",
              "      <th>295</th>\n",
              "      <td>128</td>\n",
              "      <td>1</td>\n",
              "      <td>Veggie Salad Bowl</td>\n",
              "      <td>[Fresh Tomato Salsa, [Fajita Vegetables, Lettu...</td>\n",
              "      <td>11.25</td>\n",
              "    </tr>\n",
              "    <tr>\n",
              "      <th>455</th>\n",
              "      <td>195</td>\n",
              "      <td>1</td>\n",
              "      <td>Veggie Salad Bowl</td>\n",
              "      <td>[Fresh Tomato Salsa, [Fajita Vegetables, Rice,...</td>\n",
              "      <td>11.25</td>\n",
              "    </tr>\n",
              "    <tr>\n",
              "      <th>496</th>\n",
              "      <td>207</td>\n",
              "      <td>1</td>\n",
              "      <td>Veggie Salad Bowl</td>\n",
              "      <td>[Fresh Tomato Salsa, [Rice, Lettuce, Guacamole...</td>\n",
              "      <td>11.25</td>\n",
              "    </tr>\n",
              "    <tr>\n",
              "      <th>960</th>\n",
              "      <td>394</td>\n",
              "      <td>1</td>\n",
              "      <td>Veggie Salad Bowl</td>\n",
              "      <td>[Fresh Tomato Salsa, [Fajita Vegetables, Lettu...</td>\n",
              "      <td>8.75</td>\n",
              "    </tr>\n",
              "  </tbody>\n",
              "</table>\n",
              "</div>"
            ],
            "text/plain": [
              "    order_id  ...  item_price\n",
              "186       83  ...       11.25\n",
              "295      128  ...       11.25\n",
              "455      195  ...       11.25\n",
              "496      207  ...       11.25\n",
              "960      394  ...        8.75\n",
              "\n",
              "[5 rows x 5 columns]"
            ]
          },
          "metadata": {
            "tags": []
          },
          "execution_count": 56
        }
      ]
    },
    {
      "cell_type": "markdown",
      "metadata": {
        "id": "7NSS2NNWPmsJ"
      },
      "source": [
        "Chicken Bowl 을 2개 이상 주문한 주문 횟수 구하기"
      ]
    },
    {
      "cell_type": "code",
      "metadata": {
        "colab": {
          "base_uri": "https://localhost:8080/"
        },
        "id": "HhgsRQtLRmjh",
        "outputId": "0f18b25b-1dcb-4ca4-9772-5a00acae7eb3"
      },
      "source": [
        "chipo_chicken = chipo[chipo['item_name'] == \"Chicken Bowl\"]\r\n",
        "chipo_chicken_result = chipo_chicken[chipo_chicken['quantity'] >= 2]\r\n",
        "print(chipo_chicken_result.shape[0])"
      ],
      "execution_count": 57,
      "outputs": [
        {
          "output_type": "stream",
          "text": [
            "33\n"
          ],
          "name": "stdout"
        }
      ]
    },
    {
      "cell_type": "code",
      "metadata": {
        "colab": {
          "base_uri": "https://localhost:8080/"
        },
        "id": "erURiiUaRn1B",
        "outputId": "7d937422-2b3d-4b3d-d78c-d48ebf78fb70"
      },
      "source": [
        "chipo_chicken = chipo[chipo['item_name'] == \"Chicken Bowl\"]\r\n",
        "chipo_chicken_ordersum = chipo_chicken.groupby('order_id').sum()['quantity']\r\n",
        "chipo_chicken_result = chipo_chicken_ordersum[chipo_chicken_ordersum >= 2]\r\n",
        "\r\n",
        "print(len(chipo_chicken_result))\r\n",
        "chipo_chicken_result.head(5)"
      ],
      "execution_count": 58,
      "outputs": [
        {
          "output_type": "stream",
          "text": [
            "114\n"
          ],
          "name": "stdout"
        },
        {
          "output_type": "execute_result",
          "data": {
            "text/plain": [
              "order_id\n",
              "1004    2\n",
              "1023    2\n",
              "1072    2\n",
              "1078    2\n",
              "1091    2\n",
              "Name: quantity, dtype: int64"
            ]
          },
          "metadata": {
            "tags": []
          },
          "execution_count": 58
        }
      ]
    }
  ]
}